{
 "cells": [
  {
   "cell_type": "markdown",
   "id": "edecde5d-8104-4f70-a83f-87d953abf6f9",
   "metadata": {},
   "source": [
    "# IsoDesign v2 : A software for optimizing 13C-fluxomics experimental design"
   ]
  },
  {
   "cell_type": "markdown",
   "id": "fd88a8cc-55cd-4f27-92bb-1768857325bf",
   "metadata": {},
   "source": [
    "## Loading the libraries needed to run Isodesign"
   ]
  },
  {
   "cell_type": "code",
   "execution_count": 6,
   "id": "7efa20f5-d719-4810-ba00-741e2766fd63",
   "metadata": {},
   "outputs": [],
   "source": [
    "from isodesign.base.calculation import *"
   ]
  },
  {
   "cell_type": "markdown",
   "id": "595500b8-3b5a-45d3-b0d1-d82ec235226b",
   "metadata": {},
   "source": [
    "## Loading files and analyse the input network"
   ]
  },
  {
   "cell_type": "markdown",
   "id": "c1d875ab-31a0-471c-8bf1-fc69b6feb768",
   "metadata": {},
   "source": [
    "1. Loading files"
   ]
  },
  {
   "cell_type": "code",
   "execution_count": 7,
   "id": "74b62c98-5e3f-43a0-864b-c8ab42e0a4e5",
   "metadata": {},
   "outputs": [
    {
     "name": "stderr",
     "output_type": "stream",
     "text": [
      " DEBUG:isodesign.base.calculation: Method initialize_data: Input folder directory = C:\\Users\\kouakou\\Documents\\IsoDesign\\isodesign\\test_data\\acetate_LLE\n",
      " DEBUG:isodesign.base.calculation: Method initialize_data: Prefixes from netw files in the folder = ['design_test_1', 'design_test_2']\n"
     ]
    }
   ],
   "source": [
    "# Process is the main class that will handle most of the steps initiated within the tool\n",
    "data_example = Process()\n",
    "\n",
    "data_example.initialize_data(r\"C:\\Users\\kouakou\\Documents\\IsoDesign\\isodesign\\test_data\\acetate_LLE\")"
   ]
  },
  {
   "cell_type": "code",
   "execution_count": 8,
   "id": "c90f20ce-cc0f-4386-bcb9-dff8f8c9401c",
   "metadata": {},
   "outputs": [
    {
     "name": "stderr",
     "output_type": "stream",
     "text": [
      " INFO:isodesign.base.calculation: Method load_file: Prefix design_test_1\n",
      " DEBUG:isodesign.base.calculation: Method load_file: Imported files dictionary = {'cnstr': file_info(path=WindowsPath('C:/Users/kouakou/Documents/IsoDesign/isodesign/test_data/acetate_LLE/design_test_1.cnstr'), data=    Id  Comment Kind                   Formula Operator  Value\n",
      "0  NaN      NaN  NET         bs_oaa3a-bs_oaa3b       ==      0\n",
      "1  NaN      NaN  NET         bs_pep3a-bs_pep3b       ==      0\n",
      "2  NaN      NaN  NET         bs_pep4a-bs_pep4b       ==      0\n",
      "3  NaN      NaN  NET        bs_glc6P-0.2050*BM       ==      0\n",
      "4  NaN      NaN  NET        bs_fru6P-0.0709*BM       ==      0\n",
      "5  NaN      NaN  NET          bs_pga-1.4931*BM       ==      0\n",
      "6  NaN      NaN  NET    bs_pga1_sink-0.2050*BM       ==      0\n",
      "7  NaN      NaN  NET    bs_pga2_sink-0.0870*BM       ==      0\n",
      "8  NaN      NaN  NET    bs_pga3_sink-0.5820*BM       ==      0\n",
      "9  NaN      NaN  NET         bs_DHAP-0.1290*BM       ==      0\n",
      "10 NaN      NaN  NET          bs_pyr-2.8328*BM       ==      0\n",
      "11 NaN      NaN  NET    bs_pyr4_sink-0.4020*BM       ==      0\n",
      "12 NaN      NaN  NET    bs_pyr3_sink-0.4280*BM       ==      0\n",
      "13 NaN      NaN  NET        bs_rib5p-0.8983*BM       ==      0\n",
      "14 NaN      NaN  NET  bs_rib5p1_sink-0.0804*BM       ==      0\n",
      "15 NaN      NaN  NET          bs_pep-0.7191*BM       ==      0\n",
      "16 NaN      NaN  NET    bs_pep3_sink-0.1760*BM       ==      0\n",
      "17 NaN      NaN  NET    bs_pep4_sink-0.1310*BM       ==      0\n",
      "18 NaN      NaN  NET         bs_pep5-0.0511*BM       ==      0\n",
      "19 NaN      NaN  NET        bs_accoa-2.9538*BM       ==      0\n",
      "20 NaN      NaN  NET          bs_akg-1.0779*BM       ==      0\n",
      "21 NaN      NaN  NET         bs_akg3-0.2500*BM       ==      0\n",
      "22 NaN      NaN  NET    bs_akg2_sink-0.2100*BM       ==      0\n",
      "23 NaN      NaN  NET          bs_oaa-1.7867*BM       ==      0\n",
      "24 NaN      NaN  NET    bs_oaa1_sink-0.2290*BM       ==      0\n",
      "25 NaN      NaN  NET    bs_oaa2_sink-0.2760*BM       ==      0\n",
      "26 NaN      NaN  NET    bs_oaa3_sink-0.3260*BM       ==      0\n",
      "27 NaN      NaN  NET    bs_oaa5_sink-0.2410*BM       ==      0\n",
      "28 NaN      NaN  NET    bs_oaa6_sink-0.1460*BM       ==      0\n",
      "29 NaN      NaN  NET    bs_oaa7_sink-0.2290*BM       ==      0\n",
      "30 NaN      NaN  XCH               suc_a-suc_b       ==      0\n",
      "31 NaN      NaN  NET                       pyk       >=      1\n",
      "32 NaN      NaN  NET                       edd       >=      0\n",
      "33 NaN      NaN  NET                       gnd       >=      0\n",
      "34 NaN      NaN  NET                       zwf       >=      0\n",
      "35 NaN      NaN  NET                       ppc       >=      0\n",
      "36 NaN      NaN  NET                       gs1       >=      0\n",
      "37 NaN      NaN  NET                       mae       >=      0), 'mflux': file_info(path=WindowsPath('C:/Users/kouakou/Documents/IsoDesign/isodesign/test_data/acetate_LLE/design_test_1.mflux'), data=   Id  Comment    Flux   Value     SD\n",
      "0 NaN      NaN  out_Ac  0.1752  0.015\n",
      "1 NaN      NaN      BM  0.0600  0.006), 'miso': file_info(path=WindowsPath('C:/Users/kouakou/Documents/IsoDesign/isodesign/test_data/acetate_LLE/design_test_1.miso'), data=     Id  Comment Specie       Fragment Dataset Isospecies     Value    SD  \\\n",
      "0   NaN      NaN    Ala          1,2,3    MS-1         M0  0.473831  0.02   \n",
      "1   NaN      NaN    Ala          1,2,3    MS-1         M1  0.343949  0.02   \n",
      "2   NaN      NaN    Ala          1,2,3    MS-1         M2  0.019599  0.02   \n",
      "3   NaN      NaN    Ala          1,2,3    MS-1         M3  0.162620  0.02   \n",
      "4   NaN      NaN    Gly            1,2    MS-2         M0  0.990329  0.04   \n",
      "..   ..      ...    ...            ...     ...        ...       ...   ...   \n",
      "172 NaN      NaN  Sed7P  1,2,3,4,5,6,7   MS-31         M3  0.170282  0.02   \n",
      "173 NaN      NaN  Sed7P  1,2,3,4,5,6,7   MS-31         M4  0.094369  0.02   \n",
      "174 NaN      NaN  Sed7P  1,2,3,4,5,6,7   MS-31         M5  0.080956  0.02   \n",
      "175 NaN      NaN  Sed7P  1,2,3,4,5,6,7   MS-31         M6  0.005444  0.02   \n",
      "176 NaN      NaN  Sed7P  1,2,3,4,5,6,7   MS-31         M7  0.000000  0.02   \n",
      "\n",
      "     Time  \n",
      "0     NaN  \n",
      "1     NaN  \n",
      "2     NaN  \n",
      "3     NaN  \n",
      "4     NaN  \n",
      "..    ...  \n",
      "172   NaN  \n",
      "173   NaN  \n",
      "174   NaN  \n",
      "175   NaN  \n",
      "176   NaN  \n",
      "\n",
      "[177 rows x 9 columns]), 'netw': file_info(path=WindowsPath('C:/Users/kouakou/Documents/IsoDesign/isodesign/test_data/acetate_LLE/design_test_1.netw'), data=                0                                  1\n",
      "0        Glucupt:    Gluc (ABCDEF) -> Glc6P (ABCDEF)\n",
      "1        FTHFupt:            FTHF_in (A) -> FTHF (A)\n",
      "2         CO2upt:               CO2_in(A) -> CO2 (A)\n",
      "3            pgi:  Glc6P (ABCDEF) <-> Fru6P (ABCDEF)\n",
      "4            pfk:  FruBP (ABCDEF) <-> Fru6P (ABCDEF)\n",
      "..            ...                                ...\n",
      "93       bs_oaa7:        BM_OAA (ABCD) -> Asn (ABCD)\n",
      "94  bs_oaa7_sink:      Asn (ABCD) -> Asn_sink (ABCD)\n",
      "95       out_co2:             CO2 (A) -> CO2_out (A)\n",
      "96        out_Ac:         AcCoA (AB) -> Acetate (AB)\n",
      "97      out_FTHF:           FTHF (A) -> FTHF_out (A)\n",
      "\n",
      "[98 rows x 2 columns]), 'tvar': file_info(path=WindowsPath('C:/Users/kouakou/Documents/IsoDesign/isodesign/test_data/acetate_LLE/design_test_1.tvar'), data=     Id  Comment      Name Kind Type     Value\n",
      "0   NaN      NaN        BM  NET    D  0.060000\n",
      "1   NaN      NaN        BM  XCH    C  0.000000\n",
      "2   NaN      NaN   Glucupt  NET    C  1.000000\n",
      "3   NaN      NaN    CO2upt  NET    F  1.000000\n",
      "4   NaN      NaN   FTHFupt  NET    F  0.200000\n",
      "..   ..      ...       ...  ...  ...       ...\n",
      "126 NaN      NaN       ppc  XCH    F  0.500000\n",
      "127 NaN      NaN       mae  XCH    C  0.000000\n",
      "128 NaN      NaN    out_Ac  NET    F  0.140200\n",
      "129 NaN      NaN   out_co2  NET    F  4.177978\n",
      "130 NaN      NaN  out_FTHF  NET    D  0.300000\n",
      "\n",
      "[131 rows x 6 columns])}\n"
     ]
    }
   ],
   "source": [
    "# Choose which prefix (among those identified in initialize_data) to use to load only files with this prefix \n",
    "data_example.load_file('design_test_1')"
   ]
  },
  {
   "cell_type": "markdown",
   "id": "ff351697-6f65-487d-b350-10bb9f9204d3",
   "metadata": {},
   "source": [
    "2. Input network analysis "
   ]
  },
  {
   "cell_type": "code",
   "execution_count": 9,
   "id": "f8b52fb1-188f-48c7-98e1-c812f0e24932",
   "metadata": {},
   "outputs": [
    {
     "name": "stderr",
     "output_type": "stream",
     "text": [
      " DEBUG:isodesign.base.calculation: Method input_network_analysis: self.netan dictionary keys : dict_keys(['input', 'output', 'deadend', 'subs', 'prods', 'left', 'right', 'metabs', 'reac', 'notrev', 'sto_r_m', 'sto_m_r', 'flux_m_r', 'cumo_balance_pattern', 'Clen', 'formula', 'metab_netw', 'cumo_sys', 'carbotrans', 'Cmax', 'flux_dep', 'flux_free', 'flux_constr', 'flux_measured', 'iso_input', 'funlab', 'cumo_input', 'rcumo_input', 'emu_input', 'flux_inequal', 'flux_equal', 'label_meas', 'peak_meas', 'mass_meas', 'vcumo', 'Afl', 'bfl', 'vflux', 'vflux_free', 'vflux_constr', 'vflux_meas', 'vflux_growth', 'vflux_compl', 'vflux_fwrv', 'vrowAfl', 'flux_in', 'flux_out', 'flux_inout', 'opt', 'met_pools', 'nx2dfcg', 'metab_measured', 'emu', 'exp_names', 'fullsys', 'pathway', 'reac2path', 'metabint', 'metab0len', 'flux_growth', 'flux_vgrowth', 'eqflux', 'metab_equal', 'metab_inequal', 'vpool'])\n"
     ]
    },
    {
     "name": "stdout",
     "output_type": "stream",
     "text": [
      "C:\\Users\\kouakou\\Documents\\IsoDesign\\isodesign\\test_data\\acetate_LLE\\design_test_1.tvar.def\n",
      "C:\\Users\\kouakou\\Documents\\IsoDesign\\isodesign\\test_data\\acetate_LLE\\design_test_1.linp.def\n",
      "***Warning: in EQUALITIES/XCH section, the formula '0=suc_a-suc_b' involves only constrained flux(es).\n",
      "The equality is ignored as meaningless (C:\\Users\\kouakou\\Documents\\IsoDesign\\isodesign\\test_data\\acetate_LLE\\design_test_1.ftbl: 454).\n"
     ]
    }
   ],
   "source": [
    "# analyzes the input network and stores various network elements (substrates, metabolites, etc.) \n",
    "data_example.input_network_analysis()"
   ]
  },
  {
   "cell_type": "markdown",
   "id": "a8290c87-5170-41dd-8aca-9d22379ac7f4",
   "metadata": {},
   "source": [
    "## Initializing label inputs and generate combinations"
   ]
  },
  {
   "cell_type": "markdown",
   "id": "73821c4b-489b-41a2-806f-5b9a71657178",
   "metadata": {},
   "source": [
    "1. Initializing label inputs"
   ]
  },
  {
   "cell_type": "code",
   "execution_count": 10,
   "id": "9c86596b-444a-4c57-a826-77671f4d65eb",
   "metadata": {},
   "outputs": [],
   "source": [
    "gluc_u = Isotopomer(\"Gluc\", \"111111\", 10, 0, 100)\n",
    "gluc_1 = Isotopomer(\"Gluc\", \"100000\", 10, 0, 100)\n",
    "fthf = Isotopomer(\"FTHF_in\", \"0\")\n",
    "co2 = Isotopomer(\"CO2_in\", \"0\")\n",
    "\n",
    "mix1 = {\n",
    "        \"gluc\": [gluc_1, gluc_u],\n",
    "        \"fthf\": [fthf],\n",
    "        \"co2\": [co2]\n",
    "}"
   ]
  },
  {
   "cell_type": "markdown",
   "id": "110e36c3-f968-4690-a1ae-d1045cad41e1",
   "metadata": {},
   "source": [
    "2. Generating combinations "
   ]
  },
  {
   "cell_type": "code",
   "execution_count": 11,
   "id": "f1bebe61-4cde-4355-8ee3-8048bd258645",
   "metadata": {},
   "outputs": [
    {
     "name": "stderr",
     "output_type": "stream",
     "text": [
      " DEBUG:isodesign.base.calculation: Method generate_combinations: Isotopomers : ['Gluc', 'Gluc', 'FTHF_in', 'CO2_in'] ['100000', '111111', '0', '0']\n",
      "\n",
      " DEBUG:isodesign.base.calculation: Method generate_combinations: Isotopomers combinations : {'gluc': array([[Decimal('1'), Decimal('0')],\n",
      "       [Decimal('0.9'), Decimal('0.1')],\n",
      "       [Decimal('0.8'), Decimal('0.2')],\n",
      "       [Decimal('0.7'), Decimal('0.3')],\n",
      "       [Decimal('0.6'), Decimal('0.4')],\n",
      "       [Decimal('0.5'), Decimal('0.5')],\n",
      "       [Decimal('0.4'), Decimal('0.6')],\n",
      "       [Decimal('0.3'), Decimal('0.7')],\n",
      "       [Decimal('0.2'), Decimal('0.8')],\n",
      "       [Decimal('0.1'), Decimal('0.9')],\n",
      "       [Decimal('0'), Decimal('1')]], dtype=object), 'fthf': array([[Decimal('1')]], dtype=object), 'co2': array([[Decimal('1')]], dtype=object), 'combinations': [array([Decimal('1'), Decimal('0'), Decimal('1'), Decimal('1')],\n",
      "      dtype=object), array([Decimal('0.9'), Decimal('0.1'), Decimal('1'), Decimal('1')],\n",
      "      dtype=object), array([Decimal('0.8'), Decimal('0.2'), Decimal('1'), Decimal('1')],\n",
      "      dtype=object), array([Decimal('0.7'), Decimal('0.3'), Decimal('1'), Decimal('1')],\n",
      "      dtype=object), array([Decimal('0.6'), Decimal('0.4'), Decimal('1'), Decimal('1')],\n",
      "      dtype=object), array([Decimal('0.5'), Decimal('0.5'), Decimal('1'), Decimal('1')],\n",
      "      dtype=object), array([Decimal('0.4'), Decimal('0.6'), Decimal('1'), Decimal('1')],\n",
      "      dtype=object), array([Decimal('0.3'), Decimal('0.7'), Decimal('1'), Decimal('1')],\n",
      "      dtype=object), array([Decimal('0.2'), Decimal('0.8'), Decimal('1'), Decimal('1')],\n",
      "      dtype=object), array([Decimal('0.1'), Decimal('0.9'), Decimal('1'), Decimal('1')],\n",
      "      dtype=object), array([Decimal('0'), Decimal('1'), Decimal('1'), Decimal('1')],\n",
      "      dtype=object)]}\n"
     ]
    }
   ],
   "source": [
    "data_example.generate_combinations(mix1)"
   ]
  },
  {
   "cell_type": "markdown",
   "id": "e403e7ff-6bc3-4e16-8995-57200ad5aab8",
   "metadata": {},
   "source": [
    "## Generate linp and vmtf files"
   ]
  },
  {
   "cell_type": "code",
   "execution_count": 12,
   "id": "391f6fae-3505-491f-8f5f-e127f55f199c",
   "metadata": {},
   "outputs": [
    {
     "name": "stderr",
     "output_type": "stream",
     "text": [
      " INFO:isodesign.base.calculation: Method generate_linp_files: Creation of the linp files...\n",
      " DEBUG:isodesign.base.calculation: Method generate_linp_files: Folder path : C:\\Users\\kouakou\\Documents\\IsoDesign\\isodesign\\test_data\\acetate_LLE\\tmp\n",
      " Dataframe 01:\n",
      "      Id Comment   Specie Isotopomer Value\n",
      "0  None    None     Gluc     100000     1\n",
      "2  None    None  FTHF_in          0     1\n",
      "3  None    None   CO2_in          0     1\n",
      " DEBUG:isodesign.base.calculation: Method generate_linp_files: Folder path : C:\\Users\\kouakou\\Documents\\IsoDesign\\isodesign\\test_data\\acetate_LLE\\tmp\n",
      " Dataframe 02:\n",
      "      Id Comment   Specie Isotopomer Value\n",
      "0  None    None     Gluc     100000   0.9\n",
      "1  None    None     Gluc     111111   0.1\n",
      "2  None    None  FTHF_in          0     1\n",
      "3  None    None   CO2_in          0     1\n",
      " DEBUG:isodesign.base.calculation: Method generate_linp_files: Folder path : C:\\Users\\kouakou\\Documents\\IsoDesign\\isodesign\\test_data\\acetate_LLE\\tmp\n",
      " Dataframe 03:\n",
      "      Id Comment   Specie Isotopomer Value\n",
      "0  None    None     Gluc     100000   0.8\n",
      "1  None    None     Gluc     111111   0.2\n",
      "2  None    None  FTHF_in          0     1\n",
      "3  None    None   CO2_in          0     1\n",
      " DEBUG:isodesign.base.calculation: Method generate_linp_files: Folder path : C:\\Users\\kouakou\\Documents\\IsoDesign\\isodesign\\test_data\\acetate_LLE\\tmp\n",
      " Dataframe 04:\n",
      "      Id Comment   Specie Isotopomer Value\n",
      "0  None    None     Gluc     100000   0.7\n",
      "1  None    None     Gluc     111111   0.3\n",
      "2  None    None  FTHF_in          0     1\n",
      "3  None    None   CO2_in          0     1\n",
      " DEBUG:isodesign.base.calculation: Method generate_linp_files: Folder path : C:\\Users\\kouakou\\Documents\\IsoDesign\\isodesign\\test_data\\acetate_LLE\\tmp\n",
      " Dataframe 05:\n",
      "      Id Comment   Specie Isotopomer Value\n",
      "0  None    None     Gluc     100000   0.6\n",
      "1  None    None     Gluc     111111   0.4\n",
      "2  None    None  FTHF_in          0     1\n",
      "3  None    None   CO2_in          0     1\n",
      " DEBUG:isodesign.base.calculation: Method generate_linp_files: Folder path : C:\\Users\\kouakou\\Documents\\IsoDesign\\isodesign\\test_data\\acetate_LLE\\tmp\n",
      " Dataframe 06:\n",
      "      Id Comment   Specie Isotopomer Value\n",
      "0  None    None     Gluc     100000   0.5\n",
      "1  None    None     Gluc     111111   0.5\n",
      "2  None    None  FTHF_in          0     1\n",
      "3  None    None   CO2_in          0     1\n",
      " DEBUG:isodesign.base.calculation: Method generate_linp_files: Folder path : C:\\Users\\kouakou\\Documents\\IsoDesign\\isodesign\\test_data\\acetate_LLE\\tmp\n",
      " Dataframe 07:\n",
      "      Id Comment   Specie Isotopomer Value\n",
      "0  None    None     Gluc     100000   0.4\n",
      "1  None    None     Gluc     111111   0.6\n",
      "2  None    None  FTHF_in          0     1\n",
      "3  None    None   CO2_in          0     1\n",
      " DEBUG:isodesign.base.calculation: Method generate_linp_files: Folder path : C:\\Users\\kouakou\\Documents\\IsoDesign\\isodesign\\test_data\\acetate_LLE\\tmp\n",
      " Dataframe 08:\n",
      "      Id Comment   Specie Isotopomer Value\n",
      "0  None    None     Gluc     100000   0.3\n",
      "1  None    None     Gluc     111111   0.7\n",
      "2  None    None  FTHF_in          0     1\n",
      "3  None    None   CO2_in          0     1\n",
      " DEBUG:isodesign.base.calculation: Method generate_linp_files: Folder path : C:\\Users\\kouakou\\Documents\\IsoDesign\\isodesign\\test_data\\acetate_LLE\\tmp\n",
      " Dataframe 09:\n",
      "      Id Comment   Specie Isotopomer Value\n",
      "0  None    None     Gluc     100000   0.2\n",
      "1  None    None     Gluc     111111   0.8\n",
      "2  None    None  FTHF_in          0     1\n",
      "3  None    None   CO2_in          0     1\n",
      " DEBUG:isodesign.base.calculation: Method generate_linp_files: Folder path : C:\\Users\\kouakou\\Documents\\IsoDesign\\isodesign\\test_data\\acetate_LLE\\tmp\n",
      " Dataframe 10:\n",
      "      Id Comment   Specie Isotopomer Value\n",
      "0  None    None     Gluc     100000   0.1\n",
      "1  None    None     Gluc     111111   0.9\n",
      "2  None    None  FTHF_in          0     1\n",
      "3  None    None   CO2_in          0     1\n",
      " DEBUG:isodesign.base.calculation: Method generate_linp_files: Folder path : C:\\Users\\kouakou\\Documents\\IsoDesign\\isodesign\\test_data\\acetate_LLE\\tmp\n",
      " Dataframe 11:\n",
      "      Id Comment   Specie Isotopomer Value\n",
      "1  None    None     Gluc     111111     1\n",
      "2  None    None  FTHF_in          0     1\n",
      "3  None    None   CO2_in          0     1\n",
      " DEBUG:isodesign.base.calculation: Method generate_linp_files: Elements in the vmtf dictionary {'Id': None, 'Comment': None, 'linp': ['file_01', 'file_02', 'file_03', 'file_04', 'file_05', 'file_06', 'file_07', 'file_08', 'file_09', 'file_10', 'file_11']}\n",
      " INFO:isodesign.base.calculation: Method generate_linp_files: Folder containing linp files has been generated on your current directory.\n",
      "\n"
     ]
    }
   ],
   "source": [
    "data_example.generate_linp_files()"
   ]
  },
  {
   "cell_type": "code",
   "execution_count": 13,
   "id": "9b70d3a8-70e7-40a9-b138-e1b678524414",
   "metadata": {},
   "outputs": [
    {
     "name": "stderr",
     "output_type": "stream",
     "text": [
      " INFO:isodesign.base.calculation: Method files_copy: Copy of the imported files to folder containing linp files...\n",
      " DEBUG:isodesign.base.calculation: Method files_copy: path C:\\Users\\kouakou\\Documents\\IsoDesign\\isodesign\\test_data\\acetate_LLE\\design_test_1.cnstr\n",
      " DEBUG:isodesign.base.calculation: Method files_copy: path C:\\Users\\kouakou\\Documents\\IsoDesign\\isodesign\\test_data\\acetate_LLE\\design_test_1.mflux\n",
      " DEBUG:isodesign.base.calculation: Method files_copy: path C:\\Users\\kouakou\\Documents\\IsoDesign\\isodesign\\test_data\\acetate_LLE\\design_test_1.miso\n",
      " DEBUG:isodesign.base.calculation: Method files_copy: path C:\\Users\\kouakou\\Documents\\IsoDesign\\isodesign\\test_data\\acetate_LLE\\design_test_1.netw\n",
      " DEBUG:isodesign.base.calculation: Method files_copy: path C:\\Users\\kouakou\\Documents\\IsoDesign\\isodesign\\test_data\\acetate_LLE\\design_test_1.tvar\n",
      " INFO:isodesign.base.calculation: Method files_copy: Files have been copied \n",
      "\n"
     ]
    }
   ],
   "source": [
    "data_example.files_copy()"
   ]
  },
  {
   "cell_type": "code",
   "execution_count": 14,
   "id": "55a395ef-d415-4f53-bb8c-effe72e925d6",
   "metadata": {},
   "outputs": [
    {
     "name": "stderr",
     "output_type": "stream",
     "text": [
      " DEBUG:isodesign.base.calculation: Method generate_vmtf_file: Creation of the vmtf file containing these files :\n",
      "       Id Comment     linp     ftbl\n",
      "0   None    None  file_01  file_01\n",
      "1   None    None  file_02  file_02\n",
      "2   None    None  file_03  file_03\n",
      "3   None    None  file_04  file_04\n",
      "4   None    None  file_05  file_05\n",
      "5   None    None  file_06  file_06\n",
      "6   None    None  file_07  file_07\n",
      "7   None    None  file_08  file_08\n",
      "8   None    None  file_09  file_09\n",
      "9   None    None  file_10  file_10\n",
      "10  None    None  file_11  file_11\n",
      " INFO:isodesign.base.calculation: Method generate_vmtf_file: Vmtf file has been generated in the linp folder.\n"
     ]
    }
   ],
   "source": [
    "data_example.generate_vmtf_file()"
   ]
  },
  {
   "cell_type": "code",
   "execution_count": 16,
   "id": "069adc03-eb89-4a42-9a40-5a2c0e6bf6fa",
   "metadata": {},
   "outputs": [
    {
     "name": "stderr",
     "output_type": "stream",
     "text": [
      " INFO:isodesign.base.calculation: Method influx_simulation: Influx_s is running...\n"
     ]
    },
    {
     "name": "stdout",
     "output_type": "stream",
     "text": [
      "file_03: code gen: 2024-04-17 14:11:32\n",
      "file_04: code gen: 2024-04-17 14:11:32\n",
      "file_07: code gen: 2024-04-17 14:11:32\n",
      "file_05: code gen: 2024-04-17 14:11:32\n",
      "file_02: code gen: 2024-04-17 14:11:32\n",
      "file_06: code gen: 2024-04-17 14:11:32\n",
      "file_09: code gen: 2024-04-17 14:11:32\n",
      "file_10: code gen: 2024-04-17 14:11:32\n",
      "file_11: code gen: 2024-04-17 14:11:32\n",
      "file_08: code gen: 2024-04-17 14:11:32\n",
      "file_01: code gen: 2024-04-17 14:11:32\n",
      "//calcul:  2024-04-17 14:11:33\n",
      "//end   : 2024-04-17 14:11:47\n"
     ]
    },
    {
     "name": "stderr",
     "output_type": "stream",
     "text": [
      " INFO:isodesign.base.calculation: Method influx_simulation: You can check your results in the current directory\n"
     ]
    }
   ],
   "source": [
    "data_example.influx_simulation()"
   ]
  },
  {
   "cell_type": "markdown",
   "id": "fde18524-8e0f-46d7-bb16-24480ec0d638",
   "metadata": {},
   "source": [
    "## Generate summary dataframe"
   ]
  },
  {
   "cell_type": "code",
   "execution_count": 21,
   "id": "b03ab0f5-da38-48ef-bc58-43e97949ec02",
   "metadata": {},
   "outputs": [
    {
     "name": "stderr",
     "output_type": "stream",
     "text": [
      " DEBUG:isodesign.base.calculation: Method generate_summary: List of tvar.sim file paths : \n",
      " [WindowsPath('C:/Users/kouakou/Documents/IsoDesign/isodesign/test_data/acetate_LLE/tmp/file_01_res/file_01.tvar.sim'), WindowsPath('C:/Users/kouakou/Documents/IsoDesign/isodesign/test_data/acetate_LLE/tmp/file_02_res/file_02.tvar.sim'), WindowsPath('C:/Users/kouakou/Documents/IsoDesign/isodesign/test_data/acetate_LLE/tmp/file_03_res/file_03.tvar.sim'), WindowsPath('C:/Users/kouakou/Documents/IsoDesign/isodesign/test_data/acetate_LLE/tmp/file_04_res/file_04.tvar.sim'), WindowsPath('C:/Users/kouakou/Documents/IsoDesign/isodesign/test_data/acetate_LLE/tmp/file_05_res/file_05.tvar.sim'), WindowsPath('C:/Users/kouakou/Documents/IsoDesign/isodesign/test_data/acetate_LLE/tmp/file_06_res/file_06.tvar.sim'), WindowsPath('C:/Users/kouakou/Documents/IsoDesign/isodesign/test_data/acetate_LLE/tmp/file_07_res/file_07.tvar.sim'), WindowsPath('C:/Users/kouakou/Documents/IsoDesign/isodesign/test_data/acetate_LLE/tmp/file_08_res/file_08.tvar.sim'), WindowsPath('C:/Users/kouakou/Documents/IsoDesign/isodesign/test_data/acetate_LLE/tmp/file_09_res/file_09.tvar.sim'), WindowsPath('C:/Users/kouakou/Documents/IsoDesign/isodesign/test_data/acetate_LLE/tmp/file_10_res/file_10.tvar.sim'), WindowsPath('C:/Users/kouakou/Documents/IsoDesign/isodesign/test_data/acetate_LLE/tmp/file_11_res/file_11.tvar.sim')]\n",
      " DEBUG:isodesign.base.calculation: Method generate_summary: Merged_tvar :         Name Kind  Value_tvar     Value  Value difference\n",
      "0         BM  NET    0.060000  0.064193         -0.004193\n",
      "1         BM  XCH    0.000000  0.000000          0.000000\n",
      "2     CO2upt  NET    1.000000  0.999075          0.000925\n",
      "3     CO2upt  XCH         NaN  0.000000               NaN\n",
      "4    FTHFupt  NET    0.200000  0.200000          0.000000\n",
      "..       ...  ...         ...       ...               ...\n",
      "193      tk3  XCH    0.500000  0.500000          0.000000\n",
      "194      tpi  NET    0.805746  0.826840         -0.021094\n",
      "195      tpi  XCH    0.500000  0.500000          0.000000\n",
      "196      zwf  NET    0.200000  0.186841          0.013159\n",
      "197      zwf  XCH    0.000000  0.000000          0.000000\n",
      "\n",
      "[198 rows x 5 columns]\n",
      " DEBUG:isodesign.base.calculation: Method generate_summary:         Name Kind     Value  Value difference  file_01_SD  file_02_SD  \\\n",
      "0         BM  NET  0.064193         -0.004193    0.006000    0.005992   \n",
      "1         BM  XCH  0.000000          0.000000    0.000000    0.000000   \n",
      "2     CO2upt  NET  0.999075          0.000925    1.935867    1.471474   \n",
      "3     CO2upt  XCH  0.000000               NaN    0.000000    0.000000   \n",
      "4    FTHFupt  NET  0.200000          0.000000    0.101056    0.104979   \n",
      "..       ...  ...       ...               ...         ...         ...   \n",
      "193      tk3  XCH  0.500000          0.000000    0.150935    0.163564   \n",
      "194      tpi  NET  0.826840         -0.021094    0.073596    0.106227   \n",
      "195      tpi  XCH  0.500000          0.000000    0.228385    0.271462   \n",
      "196      zwf  NET  0.186841          0.013159    0.081938    0.122837   \n",
      "197      zwf  XCH  0.000000          0.000000    0.000000    0.000000   \n",
      "\n",
      "     file_03_SD  file_04_SD  file_05_SD  file_06_SD  file_07_SD  file_08_SD  \\\n",
      "0      0.005984    0.005980    0.005982    0.005982    0.005977    0.005966   \n",
      "1      0.000000    0.000000    0.000000    0.000000    0.000000    0.000000   \n",
      "2      1.103947    0.821061    0.624807    0.495830    0.412318    0.339829   \n",
      "3      0.000000    0.000000    0.000000    0.000000    0.000000    0.000000   \n",
      "4      0.098255    0.095712    0.092889    0.082172    0.064367    0.046560   \n",
      "..          ...         ...         ...         ...         ...         ...   \n",
      "193    0.189546    0.225133    0.264186    0.276155    0.239701    0.223067   \n",
      "194    0.129198    0.119929    0.107972    0.101021    0.100200    0.108045   \n",
      "195    0.320395    0.355643    0.370178    0.381126    0.397507    0.435883   \n",
      "196    0.138694    0.123991    0.110564    0.097152    0.093253    0.099242   \n",
      "197    0.000000    0.000000    0.000000    0.000000    0.000000    0.000000   \n",
      "\n",
      "     file_09_SD  file_10_SD    file_11_SD  \n",
      "0      0.005969    0.005981  6.000000e-03  \n",
      "1      0.000000    0.000000  0.000000e+00  \n",
      "2      0.256940    0.178227  1.493934e+00  \n",
      "3      0.000000    0.000000  0.000000e+00  \n",
      "4      0.034012    0.026471  3.837689e-01  \n",
      "..          ...         ...           ...  \n",
      "193    0.227148    0.331683  1.447242e+06  \n",
      "194    0.136029    0.241816  2.481336e+05  \n",
      "195    0.528627    0.849398  1.132305e+06  \n",
      "196    0.127043    0.226301  5.143512e+05  \n",
      "197    0.000000    0.000000  0.000000e+00  \n",
      "\n",
      "[198 rows x 15 columns]\n"
     ]
    }
   ],
   "source": [
    "data_example.generate_summary()"
   ]
  },
  {
   "cell_type": "markdown",
   "id": "c7d68a74-e60e-4eda-91f7-05d756098865",
   "metadata": {},
   "source": [
    "## Scores"
   ]
  },
  {
   "cell_type": "code",
   "execution_count": 38,
   "id": "385b6c1e-e348-496d-b43d-ef7159c65f07",
   "metadata": {},
   "outputs": [],
   "source": [
    "# Initialize score object containing SDs of output files to be processed \n",
    "subset_1 = Score(data_example.summary_dataframe[\"file_07_SD\"])\n",
    "subset_2 = Score(data_example.summary_dataframe[\"file_11_SD\"])\n",
    "\n",
    "\n",
    "# The different scoring methods implemented \n",
    "# self.SCORES = {\n",
    "#            \"sum_sd\" : self.apply_sum_sd, \n",
    "#            \"flux_sd\" : self.apply_sum_nb_flux_sd,\n",
    "#            \"number_labeled_species\" : self.apply_number_labeled_species\n",
    "#           }"
   ]
  },
  {
   "cell_type": "code",
   "execution_count": 41,
   "id": "9c9363f9-118c-4b7c-b1bd-f545fffc0926",
   "metadata": {},
   "outputs": [
    {
     "data": {
      "text/plain": [
       "346711693155315.75"
      ]
     },
     "execution_count": 41,
     "metadata": {},
     "output_type": "execute_result"
    }
   ],
   "source": [
    "# possibility of adding a weight (default weight = 1)\n",
    "subset_1.apply_sum_sd()"
   ]
  },
  {
   "cell_type": "code",
   "execution_count": 42,
   "id": "956804cd-9b58-4ecd-abe1-2bbab0c87cca",
   "metadata": {},
   "outputs": [
    {
     "data": {
      "text/plain": [
       "196"
      ]
     },
     "execution_count": 42,
     "metadata": {},
     "output_type": "execute_result"
    }
   ],
   "source": [
    "# possibility of adding a weight (default weight = 1)\n",
    "subset_1.apply_sum_nb_flux_sd(threshold = 100)"
   ]
  },
  {
   "cell_type": "code",
   "execution_count": 43,
   "id": "2fe7ca57-b8f4-4238-9195-75f43a805fbf",
   "metadata": {},
   "outputs": [],
   "source": [
    "handler = ScoreHandler([subset_1.apply_sum_sd(), subset_2.apply_sum_nb_flux_sd(threshold = 100)])"
   ]
  },
  {
   "cell_type": "code",
   "execution_count": 44,
   "id": "80fd482b-6c3c-44d2-862f-c88a7b28c42f",
   "metadata": {},
   "outputs": [
    {
     "name": "stderr",
     "output_type": "stream",
     "text": [
      " INFO:isodesign.base.calculation: Method multiply_scores: Multiplication result = 346711693155465.75\n",
      " INFO:isodesign.base.calculation: Method sum_scores: Addition result = 346711693155465.75\n",
      " INFO:isodesign.base.calculation: Method divide_scores: Division result = 2311411287702.105\n"
     ]
    },
    {
     "data": {
      "text/plain": [
       "2311411287702.105"
      ]
     },
     "execution_count": 44,
     "metadata": {},
     "output_type": "execute_result"
    }
   ],
   "source": [
    "handler.multiply_scores()\n",
    "handler.sum_scores()\n",
    "handler.divide_scores()"
   ]
  }
 ],
 "metadata": {
  "kernelspec": {
   "display_name": "Python 3 (ipykernel)",
   "language": "python",
   "name": "python3"
  },
  "language_info": {
   "codemirror_mode": {
    "name": "ipython",
    "version": 3
   },
   "file_extension": ".py",
   "mimetype": "text/x-python",
   "name": "python",
   "nbconvert_exporter": "python",
   "pygments_lexer": "ipython3",
   "version": "3.11.8"
  }
 },
 "nbformat": 4,
 "nbformat_minor": 5
}
